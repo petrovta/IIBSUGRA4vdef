{
 "cells": [
  {
   "cell_type": "code",
   "execution_count": 1,
   "id": "81821ca3-f82d-4b0d-9b6d-1bcd546bf024",
   "metadata": {},
   "outputs": [
    {
     "data": {
      "text/markdown": [
       "${}\\text{Property EpsilonTensor attached to}\\epsilon\\left(\\#\\right).$"
      ]
     },
     "metadata": {},
     "output_type": "display_data"
    }
   ],
   "source": [
    "# there defined properties of used objects\n",
    "###\n",
    "{i#, j#}::Indices(name=vector, position=independent).\n",
    "{i#, j#}::Integer(1..N).\n",
    "\n",
    "{M,N,K,L,P,Q,R,S,T,U,V, M#,N#}::Indices(name=curv27e6, position=independent).\n",
    "{m,n,k,l,p,q,r,t,u,v,m#,n#}::Indices(name=curv6, parent=curv27e6, position=independent).\n",
    "\n",
    "{A,B,C,E,F,H, A#,B#}::Indices(name=flat27e6, position=independent).\n",
    "{a,b,c,d,e,f,g,h,a#,b#}::Indices(name=flat6, parent=flat27e6, position=independent).\n",
    "{\\alpha,\\beta,\\gamma,\\delta,\\lambda ,\\alpha#,\\beta#,\\lambda#}::Indices(name=flat15, position=independent).\n",
    "\n",
    "{M,N,K,L,P,Q,R,S,T,U,V, M#,N#}::Integer(1..27).\n",
    "{m,n,k,l,p,q,r,t,u,v,m#,n#}::Integer(1..5).\n",
    "\n",
    "{A,B,C,E,F,H, A#,B#}::Integer(1..27).\n",
    "{a,b,c,d,e,f,g,h,a#,b#}::Integer(1..5).\n",
    "{\\alpha,\\lambda, \\beta,\\gamma,\\delta,\\alpha#,\\beta#,\\lambda#}::Integer(1..2).\n",
    "\n",
    "Z^{A B}_{C}::TableauSymmetry(shape={2}, indices={0,1}).\n",
    "E^{m n}_{ A}::TableauSymmetry(shape={1,1}, indices={0,1}).\n",
    "E_{m n}^{ A}::TableauSymmetry(shape={1,1}, indices={0,1}).\n",
    "\n",
    "d^{M N}_{m n}::TableauSymmetry(shape={2}, indices={0,1}, shape={1,1}, indices={2,3}).\n",
    "d_{M N}^{m n}::TableauSymmetry(shape={2}, indices={0,1}, shape={1,1}, indices={2,3}).\n",
    "d_{M}^{p l m n}::TableauSymmetry(shape={1,1}, indices={1,2}, shape={1,1}, indices={3,4}).\n",
    "\n",
    "d_{M N K}::Symmetric:\n",
    "d^{M N K}::Symmetric:\n",
    "de_{M N K}::Symmetric:\n",
    "de^{M N K}::Symmetric:\n",
    "\n",
    "\n",
    "\\partial{#}::PartialDerivative.\n",
    "\\nabla{#}::Derivative.\n",
    "D{#}::Derivative.\n",
    "\\delta{#}::KroneckerDelta.\n",
    "\\epsilon{#}::EpsilonTensor(delta=\\delta{#});\n",
    "\n",
    "\\Omega^{m n k}::AntiSymmetric:\n",
    "\\epsilon_{\\alpha# \\beta#}::AntiSymmetric:\n",
    "\\rho_{\\alpha}^{ i1 i2 }::TableauSymmetry(shape={1,1}, indices={1,2}).\n",
    "\\rho^{ i1 i2 i3 i4}::TableauSymmetry(shape={1,1}, indices={1,2}).\n",
    "\\epsilon{#}::EpsilonTensor( delta = \\delta ):\n",
    "\\epsilon_{k# l# m# n# p#}::AntiSymmetric:\n",
    "\\epsilon^{k# l# m# n# p#}::AntiSymmetric:\n",
    "\n",
    "\\partial{#}::WeightInherit(label=all, type=additive):\n",
    "\n",
    "{w_{m},\\Omega{#}, W_{em m n}, \\rho^{i1 i2 i3}}::Weight(label=w, value=1):\n",
    "{g{#}, ge{#}}::Weight(label=g, value=1):\n",
    "{J, \\rho^{i1 i2 i3 i4 i5 i6}}::Weight(label=J, value=1):\n",
    "\\epsilon{#}::Weight(label=e, value=1):"
   ]
  },
  {
   "cell_type": "code",
   "execution_count": 2,
   "id": "a99e3c76-9fc6-434b-a8cc-a323f875d724",
   "metadata": {
    "editable": true,
    "scrolled": true,
    "slideshow": {
     "slide_type": ""
    },
    "tags": []
   },
   "outputs": [
    {
     "data": {
      "text/markdown": [
       "${}9\\partial_{M}{G^{M}\\,_{A}}-G^{M}\\,_{A} {E}^{-1} \\partial_{M}{E}$"
      ]
     },
     "metadata": {},
     "output_type": "display_data"
    }
   ],
   "source": [
    "# there defined $\\theta_A$\n",
    "###\n",
    "Trombone := 9 *  \\partial_{M}{G^{M}_{A}} -  G^{M}_{A}E**(-1) \\partial_{M}{E};"
   ]
  },
  {
   "cell_type": "code",
   "execution_count": 3,
   "id": "6863c1d4-7d6f-4c10-955f-0d514b927e7a",
   "metadata": {
    "editable": true,
    "scrolled": true,
    "slideshow": {
     "slide_type": ""
    },
    "tags": []
   },
   "outputs": [
    {
     "data": {
      "text/markdown": [
       "${}-9E^{M}\\,_{A} \\partial_{N}{\\Omega_{M}\\,^{N}}-9\\Omega_{M}\\,^{N} \\partial_{N}{E^{M}\\,_{A}} - \\frac{27}{5}E^{M}\\,_{A} \\Omega_{M}\\,^{N} \\partial_{N}\\left({e_{5}}\\right) {{e_{5}}}^{-1}$"
      ]
     },
     "metadata": {},
     "output_type": "display_data"
    }
   ],
   "source": [
    "# there defined rotation of generalised veilbein by for-vector tensor of deformation\n",
    "###\n",
    "substitute(_,$G^{M}_{A} -> E^{M}_{A} - \\Omega_{N}^{M} E^{N}_{A}$)\n",
    "substitute(_, $E**(-1) \\partial_{K}{E} -> - 27/5 * e5**(-1) \\partial_{K}{e5}$)\n",
    "distribute(_)\n",
    "product_rule(_)\n",
    "distribute(_)\n",
    "sort_product(_)\n",
    "rename_dummies(_)\n",
    "drop_weight(_,$w=0$);"
   ]
  },
  {
   "cell_type": "code",
   "execution_count": 4,
   "id": "d3c28715-8fc5-4a6d-856e-75161ddda0d9",
   "metadata": {
    "editable": true,
    "scrolled": true,
    "slideshow": {
     "slide_type": ""
    },
    "tags": []
   },
   "outputs": [
    {
     "data": {
      "text/markdown": [
       "${}-9E_{m \\alpha A} \\delta_{n}\\,^{k} \\partial_{k}\\left(Om^{m \\alpha n}\\right)-9E^{{m_{1}} {m_{2}}}\\,_{A} \\delta_{n}\\,^{k} \\partial_{k}\\left(Om_{{m_{1}} {m_{2}}}\\,^{n}\\right)-9E_{\\alpha A} \\delta_{n}\\,^{k} \\partial_{k}\\left(Om^{n \\alpha}\\right)-9Om^{m \\alpha n} \\delta_{n}\\,^{k} \\partial_{k}{E_{m \\alpha A}}-9Om_{{m_{1}} {m_{2}}}\\,^{n} \\delta_{n}\\,^{k} \\partial_{k}{E^{{m_{1}} {m_{2}}}\\,_{A}}-9Om^{n \\alpha} \\delta_{n}\\,^{k} \\partial_{k}{E_{\\alpha A}} - \\frac{27}{5}E_{m \\alpha A} Om^{m \\alpha n} \\delta_{n}\\,^{k} \\partial_{k}\\left({e_{5}}\\right) {{e_{5}}}^{-1} - \\frac{27}{5}E^{{m_{1}} {m_{2}}}\\,_{A} Om_{{m_{1}} {m_{2}}}\\,^{n} \\delta_{n}\\,^{k} \\partial_{k}\\left({e_{5}}\\right) {{e_{5}}}^{-1} - \\frac{27}{5}E_{\\alpha A} Om^{n \\alpha} \\delta_{n}\\,^{k} \\partial_{k}\\left({e_{5}}\\right) {{e_{5}}}^{-1}$"
      ]
     },
     "metadata": {},
     "output_type": "display_data"
    }
   ],
   "source": [
    "# branching of generalised indices and using of section condition\n",
    "###\n",
    "substitute(_,$\\Omega_{M}^{N} -> gma_{M m \\alpha} Om^{m \\alpha n} gm_{n}^{N} + gnnm_{M}^{m1 m2} Om_{m1 m2}^{n} gm_{n}^{N} + ga_{M \\alpha} Om^{ n \\alpha} gm_{n}^{N}  + gnnm_{M}^{m1 m2} Om_{m1 m2 n \\beta} gma^{n \\beta N} + ga_{M \\alpha} Om^{\\alpha}_{n \\beta} gma^{n \\beta N}+ ga_{M \\alpha} Om^{\\alpha n1 n2}gnnm_{n1 n2}^{ N}  $)\n",
    "substitute(_,$\\partial_{N}{A??} -> gm^{n}_{N} \\partial_{n}{A??}$)\n",
    "\n",
    "distribute(_)\n",
    "product_rule(_)\n",
    "distribute(_)\n",
    "substitute(_,$\\partial_{A??}{epsilon{#}} -> 0$)\n",
    "substitute(_,$\\partial_{A??}{s2} -> 0$)\n",
    "substitute(_,$\\partial_{A??}{gnnm{#}} -> 0$)\n",
    "substitute(_,$\\partial_{A??}{gm{#}} -> 0$)\n",
    "substitute(_,$\\partial_{A??}{gma{#}} -> 0$)\n",
    "substitute(_,$\\partial_{A??}{ga{#}} -> 0$)\n",
    "substitute(_,$gm^{k}_{N}gma^{n \\alpha  N}->0$)\n",
    "substitute(_,$gm^{k#}_{N}gnnm_{m# n#}^{  N}->0$)\n",
    "substitute(_,$gm^{m}_{N}gm_{n}^{N}->\\delta_{n}^{m}$)\n",
    "substitute(_,$E^{M}_{A} gma_{M n \\alpha} -> E_{n \\alpha A}$)\n",
    "substitute(_,$E^{M}_{A} gnnm_{M}^{ m n} -> E^{m n}_{ A}$)\n",
    "substitute(_,$E^{M}_{A} ga_{M \\alpha}->E_{\\alpha A}$)\n",
    "substitute(_,$\\partial_{B??}{E^{M}_{A}} gma_{M n \\alpha} -> \\partial_{B??}{E_{n \\alpha A}}$)\n",
    "substitute(_,$\\partial_{B??}{E^{M}_{A}} gnnm_{M}^{ m n} -> \\partial_{B??}{E^{m n}_{ A}$)\n",
    "substitute(_,$\\partial_{B??}{E^{M}_{A}} ga_{M \\alpha}->\\partial_{B??}{E_{\\alpha A}}$)\n",
    ";\n",
    "eliminate_kronecker(_)\n",
    "sort_product(_)\n",
    "rename_dummies(_)\n",
    "canonicalise(_)\n"
   ]
  },
  {
   "cell_type": "code",
   "execution_count": 5,
   "id": "da97f595-dd8f-4646-8a4c-16325ecb5972",
   "metadata": {},
   "outputs": [
    {
     "data": {
      "text/markdown": [
       "${} - \\frac{3}{4}E^{k l}\\,_{A} \\epsilon_{k l m n p} \\partial_{q}\\left(Do^{m n p q}\\right) {s_{2}} - \\frac{3}{4}Do^{k l m n} \\epsilon_{k l m p q} \\partial_{n}{E^{p q}\\,_{A}} {s_{2}} - \\frac{9}{20}Do^{k l m n} E^{p q}\\,_{A} \\epsilon_{k l m p q} \\partial_{n}\\left({e_{5}}\\right) {{e_{5}}}^{-1} {s_{2}}$"
      ]
     },
     "metadata": {},
     "output_type": "display_data"
    }
   ],
   "source": [
    "# substituting of precise view of four-vector deformation tensor, s2 and s5 symbolic representation of sqrt2 and sqrt5\n",
    "###\n",
    "substitute(_,$Om^{m \\alpha n}->2 0$)\n",
    "substitute(_,$Om_{m1 m2}^{n}-> +(s2/12)*\\epsilon_{m1 m2 n1 n2 n3}Do^{n1 n2 n3 n}$)\n",
    "substitute(_,$Om^{ n  \\alpha}->0$)\n",
    "substitute(_,$Om_{ l p m  \\beta}-> 0$)\n",
    "substitute(_,$Om^{ \\gamma}_{ m  \\alpha}->-(1/24)*\\delta^{\\gamma}_{\\alpha}\\epsilon_{m n1 n2 n3 n4}Do^{n1 n2 n3 n4}$)\n",
    "substitute(_,$Om^{\\beta m n}->0$)\n",
    "product_rule(_)\n",
    "distribute(_)\n",
    "distribute(_)\n",
    "distribute(_)\n",
    "substitute(_,$\\partial_{A??}{s2} -> 0$)\n",
    "substitute(_,$\\partial^{A??}{s2} -> 0$)\n",
    "substitute(_,$\\partial_{A??}{s5} -> 0$)\n",
    "substitute(_,$\\partial^{A??}{s5} -> 0$)\n",
    "substitute(_,$\\partial_{A??}{\\epsilon{#}} -> 0$)\n",
    "substitute(_,$\\partial^{A??}{\\epsilon{#}} -> 0$)\n",
    "substitute(_,$\\partial_{A??}{\\delta{#}} -> 0$)\n",
    "substitute(_,$\\partial^{A??}{\\delta{#}} -> 0$)\n",
    "substitute(_,$\\partial^{A??}{\\delta_{\\alpha#}^{\\beta#}}->0$)\n",
    "substitute(_,$\\partial^{A??}{\\epsilon_{n# p# k# l# m#}}->0$)\n",
    "substitute(_,$s2*s2->2$)\n",
    "substitute(_,$s5*s5->5$)\n",
    "eliminate_kronecker(_)\n",
    "sort_product(_)\n",
    "rename_dummies(_)\n",
    "canonicalise(_);"
   ]
  },
  {
   "cell_type": "code",
   "execution_count": 6,
   "id": "9cbb4c80-fc94-4709-8b26-e9029a3e0088",
   "metadata": {},
   "outputs": [
    {
     "data": {
      "text/markdown": [
       "${} - \\frac{3}{4}E^{k l}\\,_{A} \\epsilon_{k l m n p} \\partial_{q}\\left(\\rho^{{i_{1}} {i_{2}} {i_{3}} {i_{4}}} k_{{i_{1}}}\\,^{m} k_{{i_{2}}}\\,^{n} k_{{i_{3}}}\\,^{p} k_{{i_{4}}}\\,^{q}\\right) {s_{2}} - \\frac{3}{4}\\rho^{{i_{1}} {i_{2}} {i_{3}} {i_{4}}} k_{{i_{1}}}\\,^{k} k_{{i_{2}}}\\,^{l} k_{{i_{3}}}\\,^{m} k_{{i_{4}}}\\,^{n} \\epsilon_{k l m p q} \\partial_{n}{E^{p q}\\,_{A}} {s_{2}} - \\frac{9}{20}\\rho^{{i_{1}} {i_{2}} {i_{3}} {i_{4}}} k_{{i_{1}}}\\,^{k} k_{{i_{2}}}\\,^{l} k_{{i_{3}}}\\,^{m} k_{{i_{4}}}\\,^{n} E^{p q}\\,_{A} \\epsilon_{k l m p q} \\partial_{n}\\left({e_{5}}\\right) {{e_{5}}}^{-1} {s_{2}}$"
      ]
     },
     "metadata": {},
     "output_type": "display_data"
    },
    {
     "data": {
      "text/markdown": [
       "${} - \\frac{3}{4}E^{m n}\\,_{A} \\epsilon_{m n k l p} \\partial_{q}{k_{{i_{1}}}\\,^{k}} \\rho^{{i_{1}} {i_{2}} {i_{3}} {i_{4}}} k_{{i_{2}}}\\,^{l} k_{{i_{3}}}\\,^{p} k_{{i_{4}}}\\,^{q} {s_{2}} - \\frac{3}{4}E^{m n}\\,_{A} \\epsilon_{m n k l p} \\partial_{q}{k_{{i_{2}}}\\,^{l}} \\rho^{{i_{1}} {i_{2}} {i_{3}} {i_{4}}} k_{{i_{1}}}\\,^{k} k_{{i_{3}}}\\,^{p} k_{{i_{4}}}\\,^{q} {s_{2}} - \\frac{3}{4}E^{m n}\\,_{A} \\epsilon_{m n k l p} \\partial_{q}{k_{{i_{3}}}\\,^{p}} \\rho^{{i_{1}} {i_{2}} {i_{3}} {i_{4}}} k_{{i_{1}}}\\,^{k} k_{{i_{2}}}\\,^{l} k_{{i_{4}}}\\,^{q} {s_{2}} - \\frac{3}{4}E^{m n}\\,_{A} \\epsilon_{m n k l p} \\partial_{q}{k_{{i_{4}}}\\,^{q}} \\rho^{{i_{1}} {i_{2}} {i_{3}} {i_{4}}} k_{{i_{1}}}\\,^{k} k_{{i_{2}}}\\,^{l} k_{{i_{3}}}\\,^{p} {s_{2}} - \\frac{3}{4}\\epsilon_{k l p m n} \\partial_{q}{E^{m n}\\,_{A}} \\rho^{{i_{1}} {i_{2}} {i_{3}} {i_{4}}} k_{{i_{1}}}\\,^{k} k_{{i_{2}}}\\,^{l} k_{{i_{3}}}\\,^{p} k_{{i_{4}}}\\,^{q} {s_{2}} - \\frac{9}{20}E^{m n}\\,_{A} \\epsilon_{k l p m n} \\partial_{q}\\left({e_{5}}\\right) {{e_{5}}}^{-1} \\rho^{{i_{1}} {i_{2}} {i_{3}} {i_{4}}} k_{{i_{1}}}\\,^{k} k_{{i_{2}}}\\,^{l} k_{{i_{3}}}\\,^{p} k_{{i_{4}}}\\,^{q} {s_{2}}$"
      ]
     },
     "metadata": {},
     "output_type": "display_data"
    }
   ],
   "source": [
    "#substituting of four-vector of deformation:\n",
    "###\n",
    "substitute(_,$Do^{m p1 p2 p3}->\\rho^{i1 i2 i3 i4} k_{i1}^{m}k_{i2}^{p1}k_{i3}^{p2}k_{i4}^{p3}$);\n",
    "product_rule(_)\n",
    "distribute(_)\n",
    "rename_dummies(_)\n",
    "canonicalise(_)\n",
    "rename_dummies(_)\n",
    "sort_product(_)\n",
    "substitute(_,$\\partial_{A??}{\\epsilon{#}} -> 0$)\n",
    "substitute(_,$\\partial^{A??}{\\epsilon{#}} -> 0$)\n",
    "substitute(_,$\\partial_{A??}{\\rho{#}} -> 0$)\n",
    "substitute(_,$\\partial^{A??}{\\rho{#}} -> 0$)\n",
    "substitute(_,$\\partial_{A??}{s2} -> 0$)\n",
    "substitute(_,$\\partial^{A??}{s2} -> 0$)\n",
    "substitute(_,$\\partial_{A??}{s5} -> 0$)\n",
    "substitute(_,$\\partial^{A??}{s5} -> 0$);"
   ]
  },
  {
   "cell_type": "code",
   "execution_count": 7,
   "id": "cf0849de-d689-44a2-964b-1a8e9ad69ac5",
   "metadata": {
    "scrolled": true
   },
   "outputs": [
    {
     "data": {
      "text/markdown": [
       "${} - \\frac{3}{4}E^{k l}\\,_{A} \\epsilon_{k l m n p} \\partial_{q}{k_{{i_{1}}}\\,^{m}} \\rho^{{i_{1}} {i_{2}} {i_{3}} {i_{4}}} k_{{i_{2}}}\\,^{n} k_{{i_{3}}}\\,^{p} k_{{i_{4}}}\\,^{q} {s_{2}}+\\frac{3}{2}E^{k l}\\,_{A} \\epsilon_{k l m n p} \\partial_{q}{k_{{i_{1}}}\\,^{m}} \\rho^{{i_{2}} {i_{1}} {i_{3}} {i_{4}}} k_{{i_{2}}}\\,^{n} k_{{i_{3}}}\\,^{p} k_{{i_{4}}}\\,^{q} {s_{2}} - \\frac{3}{2}E^{k l}\\,_{A} \\epsilon_{k m n p q} \\partial_{l}{k_{{i_{1}}}\\,^{m}} \\rho^{{i_{2}} {i_{3}} {i_{4}} {i_{1}}} k_{{i_{2}}}\\,^{n} k_{{i_{3}}}\\,^{p} k_{{i_{4}}}\\,^{q} {s_{2}}+\\frac{3}{4}E^{k l}\\,_{A} \\epsilon_{k l m n p} \\partial_{q}{k_{{i_{1}}}\\,^{q}} \\rho^{{i_{2}} {i_{3}} {i_{4}} {i_{1}}} k_{{i_{2}}}\\,^{m} k_{{i_{3}}}\\,^{n} k_{{i_{4}}}\\,^{p} {s_{2}}$"
      ]
     },
     "metadata": {},
     "output_type": "display_data"
    }
   ],
   "source": [
    "#change of action of derivative from veilbeins components to Killing vectors components\n",
    "###\n",
    "substitute(_,$k_{i#}^{l}\\partial_{l}{E_{m n}^{E#}}->1*E_{m n}^{E#}\\partial_{l}{k_{i#}^{l}}+E_{ n l}^{E#}\\partial_{m}{k_{i#}^{l}}+E_{ l m}^{E#}\\partial_{n}{k_{i#}^{l}}$)\n",
    "substitute(_,$k_{i#}^{l}\\partial_{l}{E^{m n}_{E#}}->-E^{m n}_{E#}\\partial_{l}{k_{i#}^{l}}-E^{ n l}_{E#}\\partial_{l}{k_{i#}^{m}}-E^{  l m}_{E#}\\partial_{l}{k_{i#}^{n}}$)\n",
    "substitute(_,$\\partial_{q}{e_{mod}} k_{i#}^{q}->-e_{mod}\\partial_{q}{k_{i#}^{q}}$)\n",
    "substitute(_,$k_{i#}^{m}\\partial_{m}{E^{n}_{A}}->E^{m}_{A}\\partial_{m}{k_{i#}^{n}}$)\n",
    "distribute(_)\n",
    "sort_product(_)\n",
    "rename_dummies(_)\n",
    "canonicalise(_)\n",
    "substitute(_,$k_{i#}^{m}\\partial_{m}{E_{n}^{A}}->-E_{m}^{A}\\partial_{n}{k_{i#}^{ m}}$)\n",
    "distribute(_)\n",
    "sort_product(_)\n",
    "rename_dummies(_)\n",
    "canonicalise(_)\n",
    "distribute(_)\n",
    "sort_product(_)\n",
    "rename_dummies(_)\n",
    "canonicalise(_)\n",
    "substitute(_,$\\partial_{q}{e5} k_{i#}^{q}->- 5/3*e5\\partial_{q}{k_{i#}^{q}}$)\n",
    "distribute(_)\n",
    "sort_product(_)\n",
    "rename_dummies(_)\n",
    "canonicalise(_)\n",
    "substitute(_,$k_{i#}^{n}\\partial_{n}{E_{ m# \\beta# A}}->-E_{ n \\beta# A}\\partial_{m#}{k_{i#}^{ n}}$)\n",
    "distribute(_)\n",
    "sort_product(_)\n",
    "rename_dummies(_)\n",
    "canonicalise(_)\n",
    "substitute(_,$k_{i#}^{n}\\partial_{n}{E^{ m# \\beta# A}}->E^{ n \\beta# A}\\partial_{n}{k_{i#}^{ m#}}$)\n",
    "distribute(_)\n",
    "sort_product(_)\n",
    "rename_dummies(_)\n",
    "canonicalise(_)\n",
    "substitute(_,$k_{i#}^{n}\\partial_{n}{E^{\\alpha E}}->\\partial_{n}{k_{i#}^{n}}E^{\\alpha E}$)\n",
    "distribute(_)\n",
    "sort_product(_)\n",
    "rename_dummies(_)\n",
    "canonicalise(_)\n",
    "sort_product(_)\n",
    "distribute(_)\n",
    "sort_product(_)\n",
    "rename_dummies(_)\n",
    "canonicalise(_)\n",
    "substitute(_,$e5 e5**(-1)->1$);"
   ]
  },
  {
   "cell_type": "code",
   "execution_count": 8,
   "id": "a4572ecc-c250-456f-b451-2943cbf9d7a0",
   "metadata": {},
   "outputs": [
    {
     "data": {
      "text/markdown": [
       "${} - \\frac{3}{4}E^{k l}\\,_{A} \\epsilon_{k l m n p} \\partial_{q}{k_{{i_{1}}}\\,^{m}} \\rho^{{i_{1}} {i_{2}} {i_{3}} {i_{4}}} k_{{i_{2}}}\\,^{n} k_{{i_{3}}}\\,^{p} k_{{i_{4}}}\\,^{q} {s_{2}}+\\frac{3}{2}E^{k l}\\,_{A} \\epsilon_{k l m n p} \\partial_{q}{k_{{i_{1}}}\\,^{m}} \\rho^{{i_{2}} {i_{1}} {i_{3}} {i_{4}}} k_{{i_{2}}}\\,^{n} k_{{i_{3}}}\\,^{p} k_{{i_{4}}}\\,^{q} {s_{2}}+\\frac{3}{4}E^{k l}\\,_{A} \\epsilon_{k l m n p} \\partial_{q}{k_{{i_{1}}}\\,^{m}} \\rho^{{i_{2}} {i_{3}} {i_{4}} {i_{1}}} k_{{i_{2}}}\\,^{q} k_{{i_{3}}}\\,^{n} k_{{i_{4}}}\\,^{p} {s_{2}}+\\frac{3}{2}E^{k l}\\,_{A} \\epsilon_{k l m n p} \\partial_{q}{k_{{i_{1}}}\\,^{m}} \\rho^{{i_{2}} {i_{3}} {i_{4}} {i_{1}}} k_{{i_{2}}}\\,^{n} k_{{i_{3}}}\\,^{p} k_{{i_{4}}}\\,^{q} {s_{2}}$"
      ]
     },
     "metadata": {},
     "output_type": "display_data"
    }
   ],
   "source": [
    "#killing of \\partial_{m}{k_{i}^{m}} terms\n",
    "###\n",
    "substitute(_,$\\epsilon_{k l m n p}\\partial_{q}{k_{i#}^{q}}->\\epsilon_{l m n p q}\\partial_{k}{k_{i#}^{q}}-\\epsilon_{m n p q k}\\partial_{l}{k_{i#}^{q}}+\\epsilon_{n p q k l}\\partial_{m}{k_{i#}^{q}}-\\epsilon_{p q k l m}\\partial_{n}{k_{i#}^{q}}+\\epsilon_{q k l m n}\\partial_{p}{k_{i#}^{q}}$)\n",
    "distribute(_)\n",
    "sort_product(_)\n",
    "rename_dummies(_)\n",
    "canonicalise(_);"
   ]
  },
  {
   "cell_type": "code",
   "execution_count": 9,
   "id": "dc3110f5-6368-4f9c-8250-6c9f3b6ac8fc",
   "metadata": {},
   "outputs": [
    {
     "data": {
      "text/markdown": [
       "${}\\frac{3}{4}E^{k l}\\,_{A} \\epsilon_{k l m n p} \\rho^{{i_{1}} {i_{2}} {i_{3}} {i_{4}}} f_{{i_{1}} {i_{4}}}\\,^{{i_{5}}} k_{{i_{2}}}\\,^{m} k_{{i_{3}}}\\,^{n} k_{{i_{5}}}\\,^{p} {s_{2}} - \\frac{3}{2}E^{k l}\\,_{A} \\epsilon_{k l m n p} \\rho^{{i_{1}} {i_{2}} {i_{3}} {i_{4}}} f_{{i_{2}} {i_{4}}}\\,^{{i_{5}}} k_{{i_{1}}}\\,^{m} k_{{i_{3}}}\\,^{n} k_{{i_{5}}}\\,^{p} {s_{2}}$"
      ]
     },
     "metadata": {},
     "output_type": "display_data"
    }
   ],
   "source": [
    "#adding structure constants\n",
    "###\n",
    "f_{i8 i1}^{i9}::TableauSymmetry(shape={1,1}, indices={0,1})\n",
    "substitute(_,$k_{i8}^{t}\\partial_{t}{k_{i1}^{l}}->1/2*f_{i8 i1}^{i9}k_{i9}^{l}$)\n",
    "distribute(_)\n",
    "sort_product(_)\n",
    "rename_dummies(_)\n",
    "canonicalise(_);"
   ]
  }
 ],
 "metadata": {
  "kernelspec": {
   "display_name": "Cadabra2",
   "language": "python",
   "name": "cadabra2"
  },
  "language_info": {
   "codemirror_mode": "cadabra",
   "file_extension": ".ipynb",
   "mimetype": "text/cadabra",
   "name": "cadabra2",
   "pygments_lexer": "cadabra"
  }
 },
 "nbformat": 4,
 "nbformat_minor": 5
}
